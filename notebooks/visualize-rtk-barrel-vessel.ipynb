{
 "cells": [
  {
   "cell_type": "markdown",
   "metadata": {},
   "source": [
    "## RTK visualization\n",
    "#### April Novak\n",
    "\n",
    "This notebook shows that a VERA input defined with a baffle and vessel, when run through the vera_to_shift executable, does not retain the baffle or vessel in its geometric description. The next step is to verify that VERA is running with the baffle and vessel, however. This will be investigated by making the baffle out of fuel, and out of steel, and looking at the difference in the fission source (with vacuum boundary conditions on the radial boundary)."
   ]
  },
  {
   "cell_type": "code",
   "execution_count": 1,
   "metadata": {
    "collapsed": false
   },
   "outputs": [],
   "source": [
    "import sys\n",
    "\n",
    "import h5py as h5\n",
    "import numpy as np\n",
    "import matplotlib.pyplot as plt\n",
    "import matplotlib.cm as cm\n",
    "\n",
    "# path to Exnihilo-specific python modules on your machine. This is a path\n",
    "# on a personal machine due to the mounting to orthanc.\n",
    "sys.path.insert(0, '/Users/aprilnovak/Installs/python')\n",
    "sys.path.append('/Users/aprilnovak/anaconda3/lib/python3.5/')\n",
    "\n",
    "import exnihilotools.matplotlib as extools\n",
    "\n",
    "extools.screen_style()\n",
    "%matplotlib inline"
   ]
  },
  {
   "cell_type": "code",
   "execution_count": 2,
   "metadata": {
    "collapsed": false
   },
   "outputs": [
    {
     "data": {
      "text/html": [
       "<p style=\"font-size: 75%; color: #ccc; font-style: italic;\">Loading Omnibus tools from Exnihilo version 6.2 (branch 'casl2omni' #f4db12f1 on 2017JAN17)</p>"
      ],
      "text/plain": [
       "<IPython.core.display.HTML object>"
      ]
     },
     "metadata": {},
     "output_type": "display_data"
    }
   ],
   "source": [
    "# for plotting tallies\n",
    "from omnibus.data import plot\n",
    "from matplotlib.colors import Normalize, LogNorm"
   ]
  },
  {
   "cell_type": "code",
   "execution_count": 3,
   "metadata": {
    "collapsed": false
   },
   "outputs": [],
   "source": [
    "# for plotting geometry\n",
    "from geometria import RTK_Geometry\n",
    "from omnibus.raytrace.colors import ColorMap\n",
    "from omnibus.raytrace.imager import Imager\n",
    "from omnibus.raytrace.load import load_rtk"
   ]
  },
  {
   "cell_type": "code",
   "execution_count": 4,
   "metadata": {
    "collapsed": false,
    "scrolled": true
   },
   "outputs": [],
   "source": [
    "path = '/Users/aprilnovak/Mounts/orthanc/projects/nkq_analysis/vera-inputs/'"
   ]
  },
  {
   "cell_type": "markdown",
   "metadata": {
    "collapsed": true
   },
   "source": [
    "## Fission source with a thick reflector\n",
    "These results show that with a thick reflector (20 m of water on all sides), the fission source does change from that with a 1 cm thick water. This proves that VERA is using the baffle and reflector when running."
   ]
  },
  {
   "cell_type": "code",
   "execution_count": 12,
   "metadata": {
    "collapsed": false,
    "scrolled": true
   },
   "outputs": [
    {
     "ename": "NameError",
     "evalue": "name 'thick_source_matrix' is not defined",
     "output_type": "error",
     "traceback": [
      "\u001b[0;31m---------------------------------------------------------------------------\u001b[0m",
      "\u001b[0;31mNameError\u001b[0m                                 Traceback (most recent call last)",
      "\u001b[0;32m<ipython-input-12-237f82642744>\u001b[0m in \u001b[0;36m<module>\u001b[0;34m()\u001b[0m\n\u001b[1;32m      6\u001b[0m     \u001b[0;32mfor\u001b[0m \u001b[0mi\u001b[0m \u001b[0;32min\u001b[0m \u001b[0mrange\u001b[0m\u001b[0;34m(\u001b[0m\u001b[0msize\u001b[0m\u001b[0;34m)\u001b[0m\u001b[0;34m:\u001b[0m\u001b[0;34m\u001b[0m\u001b[0m\n\u001b[1;32m      7\u001b[0m         \u001b[0;32mfor\u001b[0m \u001b[0mj\u001b[0m \u001b[0;32min\u001b[0m \u001b[0mrange\u001b[0m\u001b[0;34m(\u001b[0m\u001b[0msize\u001b[0m\u001b[0;34m)\u001b[0m\u001b[0;34m:\u001b[0m\u001b[0;34m\u001b[0m\u001b[0m\n\u001b[0;32m----> 8\u001b[0;31m             \u001b[0mthick_source_matrix\u001b[0m\u001b[0;34m[\u001b[0m\u001b[0mi\u001b[0m\u001b[0;34m]\u001b[0m\u001b[0;34m[\u001b[0m\u001b[0mj\u001b[0m\u001b[0;34m]\u001b[0m \u001b[0;34m=\u001b[0m \u001b[0msource\u001b[0m\u001b[0;34m[\u001b[0m\u001b[0mi\u001b[0m \u001b[0;34m+\u001b[0m \u001b[0mj\u001b[0m\u001b[0;34m]\u001b[0m\u001b[0;34m\u001b[0m\u001b[0m\n\u001b[0m\u001b[1;32m      9\u001b[0m \u001b[0;34m\u001b[0m\u001b[0m\n\u001b[1;32m     10\u001b[0m     \u001b[0mprint\u001b[0m\u001b[0;34m(\u001b[0m\u001b[0mthick_source_matrix\u001b[0m\u001b[0;34m)\u001b[0m\u001b[0;34m\u001b[0m\u001b[0m\n",
      "\u001b[0;31mNameError\u001b[0m: name 'thick_source_matrix' is not defined"
     ]
    }
   ],
   "source": [
    "with h5.File(path + \"baffle-vessel/baffle-vessel-thick.src-extracted.shift.h5\") as f:\n",
    "    source = f['strength']\n",
    "    size = int(np.sqrt(source.shape[0]))\n",
    "    thick_source_matrix = np.empty((size, size))\n",
    "    \n",
    "    for i in range(size):\n",
    "        for j in range(size):\n",
    "            thick_source_matrix[i][j] = source[i + j]\n",
    "    \n",
    "    print(thick_source_matrix)\n",
    "    plt.matshow(thick_source_matrix)"
   ]
  },
  {
   "cell_type": "markdown",
   "metadata": {},
   "source": [
    "## Fission source with thin barrel"
   ]
  },
  {
   "cell_type": "code",
   "execution_count": 9,
   "metadata": {
    "collapsed": false
   },
   "outputs": [
    {
     "name": "stdout",
     "output_type": "stream",
     "text": [
      "[[ 0.01743757  0.01849873  0.01947991  0.00770632  0.01816968]\n",
      " [ 0.01849873  0.01947991  0.00770632  0.01816968  0.01828952]\n",
      " [ 0.01947991  0.00770632  0.01816968  0.01828952  0.01902355]\n",
      " [ 0.00770632  0.01816968  0.01828952  0.01902355  0.01959334]\n",
      " [ 0.01816968  0.01828952  0.01902355  0.01959334  0.01958926]]\n"
     ]
    },
    {
     "data": {
      "image/png": "[encoded data removed]",
      "text/plain": [
       "<matplotlib.figure.Figure at 0x1130010f0>"
      ]
     },
     "metadata": {},
     "output_type": "display_data"
    }
   ],
   "source": [
    "with h5.File(path + \"baffle-vessel/baffle-vessel-thin.src-extracted.shift.h5\") as f:\n",
    "    source = f['strength']\n",
    "    size = int(np.sqrt(source.shape[0]))\n",
    "    source_matrix = np.empty((size, size))\n",
    "    \n",
    "    for i in range(size):\n",
    "        for j in range(size):\n",
    "            thin_source_matrix[i][j] = source[i + j]\n",
    "    \n",
    "    print(thin_source_matrix)\n",
    "    plt.matshow(thin_source_matrix)"
   ]
  },
  {
   "cell_type": "code",
   "execution_count": 11,
   "metadata": {
    "collapsed": false
   },
   "outputs": [
    {
     "ename": "NameError",
     "evalue": "name 'thin_source_matrix' is not defined",
     "output_type": "error",
     "traceback": [
      "\u001b[0;31m---------------------------------------------------------------------------\u001b[0m",
      "\u001b[0;31mNameError\u001b[0m                                 Traceback (most recent call last)",
      "\u001b[0;32m<ipython-input-11-0051beb288c5>\u001b[0m in \u001b[0;36m<module>\u001b[0;34m()\u001b[0m\n\u001b[0;32m----> 1\u001b[0;31m \u001b[0mdiff\u001b[0m \u001b[0;34m=\u001b[0m \u001b[0mthin_source_matrix\u001b[0m \u001b[0;34m-\u001b[0m \u001b[0mthick_source_matrix\u001b[0m\u001b[0;34m\u001b[0m\u001b[0m\n\u001b[0m",
      "\u001b[0;31mNameError\u001b[0m: name 'thin_source_matrix' is not defined"
     ]
    }
   ],
   "source": [
    "diff = thin_source_matrix - thick_source_matrix"
   ]
  },
  {
   "cell_type": "code",
   "execution_count": null,
   "metadata": {
    "collapsed": true
   },
   "outputs": [],
   "source": []
  }
 ],
 "metadata": {
  "kernelspec": {
   "display_name": "Python 3",
   "language": "python",
   "name": "python3"
  },
  "language_info": {
   "codemirror_mode": {
    "name": "ipython",
    "version": 3
   },
   "file_extension": ".py",
   "mimetype": "text/x-python",
   "name": "python",
   "nbconvert_exporter": "python",
   "pygments_lexer": "ipython3",
   "version": "3.5.2"
  }
 },
 "nbformat": 4,
 "nbformat_minor": 1
}
