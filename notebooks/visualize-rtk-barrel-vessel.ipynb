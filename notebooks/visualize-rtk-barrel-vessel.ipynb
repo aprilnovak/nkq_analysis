{
 "cells": [
  {
   "cell_type": "markdown",
   "metadata": {},
   "source": [
    "## RTK visualization\n",
    "#### April Novak\n",
    "\n",
    "This notebook shows that a VERA input defined with a baffle and vessel, when run through the vera_to_shift executable, does not retain the baffle or vessel in its geometric description passed into Shift. \n",
    "\n",
    "This notebook also shows that VERA _does_ run with the baffle and reflector defined, based on two different fission sources being provided when only the thickness of the reflector is changed."
   ]
  },
  {
   "cell_type": "code",
   "execution_count": 1,
   "metadata": {
    "collapsed": false
   },
   "outputs": [],
   "source": [
    "import sys\n",
    "\n",
    "import h5py as h5\n",
    "import numpy as np\n",
    "import matplotlib.pyplot as plt\n",
    "import matplotlib.cm as cm\n",
    "\n",
    "# path to Exnihilo-specific python modules on your machine. This is a path\n",
    "# on a personal machine due to the mounting to orthanc.\n",
    "sys.path.insert(0, '/Users/aprilnovak/Installs/python')\n",
    "sys.path.append('/Users/aprilnovak/anaconda3/lib/python3.5/')\n",
    "\n",
    "import exnihilotools.matplotlib as extools\n",
    "\n",
    "extools.screen_style()\n",
    "%matplotlib inline"
   ]
  },
  {
   "cell_type": "code",
   "execution_count": 2,
   "metadata": {
    "collapsed": false
   },
   "outputs": [
    {
     "data": {
      "text/html": [
       "<p style=\"font-size: 75%; color: #ccc; font-style: italic;\">Loading Omnibus tools from Exnihilo version 6.2 (branch 'casl2omni' #f4db12f1 on 2017JAN17)</p>"
      ],
      "text/plain": [
       "<IPython.core.display.HTML object>"
      ]
     },
     "metadata": {},
     "output_type": "display_data"
    }
   ],
   "source": [
    "# for plotting tallies\n",
    "from omnibus.data import plot\n",
    "from matplotlib.colors import Normalize, LogNorm"
   ]
  },
  {
   "cell_type": "code",
   "execution_count": 3,
   "metadata": {
    "collapsed": false
   },
   "outputs": [],
   "source": [
    "# for plotting geometry\n",
    "from geometria import RTK_Geometry\n",
    "from omnibus.raytrace.colors import ColorMap\n",
    "from omnibus.raytrace.imager import Imager\n",
    "from omnibus.raytrace.load import load_rtk"
   ]
  },
  {
   "cell_type": "code",
   "execution_count": 4,
   "metadata": {
    "collapsed": false,
    "scrolled": true
   },
   "outputs": [],
   "source": [
    "path = '/Users/aprilnovak/Mounts/orthanc/projects/nkq_analysis/vera-inputs/'"
   ]
  },
  {
   "cell_type": "markdown",
   "metadata": {
    "collapsed": true
   },
   "source": [
    "## Fission source with a thick reflector\n",
    "These results show that with a thick reflector (20 m of water on all sides), the fission source does change from that with a 1 cm thick water. This proves that VERA is using the baffle and reflector when running."
   ]
  },
  {
   "cell_type": "code",
   "execution_count": 13,
   "metadata": {
    "collapsed": false,
    "scrolled": true
   },
   "outputs": [
    {
     "name": "stdout",
     "output_type": "stream",
     "text": [
      "[[ 0.01695344  0.01798129  0.01892869  0.00747999  0.01765888]\n",
      " [ 0.01798129  0.01892869  0.00747999  0.01765888  0.01777913]\n",
      " [ 0.01892869  0.00747999  0.01765888  0.01777913  0.01851128]\n",
      " [ 0.00747999  0.01765888  0.01777913  0.01851128  0.01906932]\n",
      " [ 0.01765888  0.01777913  0.01851128  0.01906932  0.01905518]]\n"
     ]
    },
    {
     "data": {
      "image/png": "[encoded data removed]",
      "text/plain": [
       "<matplotlib.figure.Figure at 0x1113a3278>"
      ]
     },
     "metadata": {},
     "output_type": "display_data"
    }
   ],
   "source": [
    "with h5.File(path + \"baffle-vessel/baffle-vessel-thick.src-extracted.shift.h5\") as f:\n",
    "    source = f['strength']\n",
    "    size = int(np.sqrt(source.shape[0]))\n",
    "    thick_source_matrix = np.empty((size, size))\n",
    "    \n",
    "    for i in range(size):\n",
    "        for j in range(size):\n",
    "            thick_source_matrix[i][j] = source[i + j]\n",
    "    \n",
    "    print(thick_source_matrix)\n",
    "    plt.matshow(thick_source_matrix)"
   ]
  },
  {
   "cell_type": "markdown",
   "metadata": {},
   "source": [
    "## Fission source with thin barrel"
   ]
  },
  {
   "cell_type": "code",
   "execution_count": 14,
   "metadata": {
    "collapsed": false
   },
   "outputs": [
    {
     "name": "stdout",
     "output_type": "stream",
     "text": [
      "[[ 0.01743757  0.01849873  0.01947991  0.00770632  0.01816968]\n",
      " [ 0.01849873  0.01947991  0.00770632  0.01816968  0.01828952]\n",
      " [ 0.01947991  0.00770632  0.01816968  0.01828952  0.01902355]\n",
      " [ 0.00770632  0.01816968  0.01828952  0.01902355  0.01959334]\n",
      " [ 0.01816968  0.01828952  0.01902355  0.01959334  0.01958926]]\n"
     ]
    },
    {
     "data": {
      "image/png": "[encoded data removed]",
      "text/plain": [
       "<matplotlib.figure.Figure at 0x113127588>"
      ]
     },
     "metadata": {},
     "output_type": "display_data"
    }
   ],
   "source": [
    "with h5.File(path + \"baffle-vessel/baffle-vessel-thin.src-extracted.shift.h5\") as f:\n",
    "    source = f['strength']\n",
    "    size = int(np.sqrt(source.shape[0]))\n",
    "    thin_source_matrix = np.empty((size, size))\n",
    "    \n",
    "    for i in range(size):\n",
    "        for j in range(size):\n",
    "            thin_source_matrix[i][j] = source[i + j]\n",
    "    \n",
    "    print(thin_source_matrix)\n",
    "    plt.matshow(thin_source_matrix)"
   ]
  },
  {
   "cell_type": "code",
   "execution_count": 18,
   "metadata": {
    "collapsed": false
   },
   "outputs": [
    {
     "name": "stdout",
     "output_type": "stream",
     "text": [
      "[[-0.00048414 -0.00051745 -0.00055122 -0.00022633 -0.0005108 ]\n",
      " [-0.00051745 -0.00055122 -0.00022633 -0.0005108  -0.0005104 ]\n",
      " [-0.00055122 -0.00022633 -0.0005108  -0.0005104  -0.00051226]\n",
      " [-0.00022633 -0.0005108  -0.0005104  -0.00051226 -0.00052403]\n",
      " [-0.0005108  -0.0005104  -0.00051226 -0.00052403 -0.00053408]]\n"
     ]
    },
    {
     "data": {
      "text/plain": [
       "<matplotlib.image.AxesImage at 0x1126faa58>"
      ]
     },
     "execution_count": 18,
     "metadata": {},
     "output_type": "execute_result"
    },
    {
     "data": {
      "image/png": "[encoded data removed]",
      "text/plain": [
       "<matplotlib.figure.Figure at 0x113127ef0>"
      ]
     },
     "metadata": {},
     "output_type": "display_data"
    }
   ],
   "source": [
    "diff = thick_source_matrix - thin_source_matrix\n",
    "print(diff)\n",
    "plt.matshow(diff)"
   ]
  },
  {
   "cell_type": "markdown",
   "metadata": {},
   "source": []
  },
  {
   "cell_type": "code",
   "execution_count": null,
   "metadata": {
    "collapsed": true
   },
   "outputs": [],
   "source": []
  }
 ],
 "metadata": {
  "kernelspec": {
   "display_name": "Python 3",
   "language": "python",
   "name": "python3"
  },
  "language_info": {
   "codemirror_mode": {
    "name": "ipython",
    "version": 3
   },
   "file_extension": ".py",
   "mimetype": "text/x-python",
   "name": "python",
   "nbconvert_exporter": "python",
   "pygments_lexer": "ipython3",
   "version": "3.5.2"
  }
 },
 "nbformat": 4,
 "nbformat_minor": 1
}
