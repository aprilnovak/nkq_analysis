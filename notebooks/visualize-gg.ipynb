{
 "cells": [
  {
   "cell_type": "markdown",
   "metadata": {},
   "source": [
    "## RTK + GG Visualization\n",
    "#### April Novak\n",
    "\n",
    "This notebook illustrates how to visualize a combined RTK (in-core) and GG (ex-core) geometry. This notebook is held on `orthanc`, but is launched through the Mounts, so my personal machine has to have the `casl2omni` branch checked out so that my machine knows about those updates. To do this, from `~/projects/Exnihilo`, do `git fetch; git checkout -t origin/casl2omni`. Then, build in the build directory on my personal machine (`~/Builds/Exnihilo`) by doing `make install`. Then, because this notebook is being launched from a Mount, the file path in the `ex-core.gg.xml` file that is to be read in must be edited so that the correct path (_through the Mount_) is read.\n"
   ]
  },
  {
   "cell_type": "code",
   "execution_count": null,
   "metadata": {
    "collapsed": false
   },
   "outputs": [],
   "source": [
    "import sys\n",
    "\n",
    "import h5py as h5\n",
    "import numpy as np\n",
    "import matplotlib.pyplot as plt\n",
    "import matplotlib.cm as cm\n",
    "\n",
    "# path to Exnihilo-specific python modules on your machine. This is a path\n",
    "# on a personal machine due to the mounting to orthanc.\n",
    "sys.path.insert(0, '/Users/aprilnovak/Installs/python')\n",
    "\n",
    "import exnihilotools.matplotlib as extools\n",
    "\n",
    "extools.screen_style()\n",
    "%matplotlib inline"
   ]
  },
  {
   "cell_type": "code",
   "execution_count": null,
   "metadata": {
    "collapsed": false
   },
   "outputs": [],
   "source": [
    "# for plotting tallies\n",
    "from omnibus.data import plot\n",
    "from matplotlib.colors import Normalize, LogNorm"
   ]
  },
  {
   "cell_type": "code",
   "execution_count": null,
   "metadata": {
    "collapsed": false
   },
   "outputs": [],
   "source": [
    "# This shows where this notebook is importing geometria from\n",
    "import geometria\n",
    "geometria.__file__"
   ]
  },
  {
   "cell_type": "code",
   "execution_count": null,
   "metadata": {
    "collapsed": false
   },
   "outputs": [],
   "source": [
    "# for plotting geometry\n",
    "from geometria import GG_Geometry\n",
    "from omnibus.raytrace.colors import ColorMap\n",
    "from omnibus.raytrace.imager import Imager\n",
    "from omnibus.raytrace.load import load_gg"
   ]
  },
  {
   "cell_type": "code",
   "execution_count": null,
   "metadata": {
    "collapsed": false,
    "scrolled": true
   },
   "outputs": [],
   "source": [
    "xml_path = '/Users/aprilnovak/Mounts/orthanc/projects/nkq_analysis/vera-inputs/4x4-excore/'\n",
    "# Because this is launched through the Mount, you have to manually edit the file path within \n",
    "# the XML file so that it is reading from the Mount.\n",
    "filename = '4x4-excore-notebook.gg.xml'\n",
    "comp_filename = '4x4-excore.shift_compositions-custom.h5'\n",
    "\n",
    "model = load_gg(xml_path + filename)"
   ]
  },
  {
   "cell_type": "code",
   "execution_count": null,
   "metadata": {
    "collapsed": false
   },
   "outputs": [],
   "source": [
    "# record description of the model\n",
    "description = model.geometry.describe()"
   ]
  },
  {
   "cell_type": "code",
   "execution_count": null,
   "metadata": {
    "collapsed": false
   },
   "outputs": [],
   "source": [
    "# Set parameters for the plots\n",
    "tracer = 'cell'\n",
    "color_map = 'CMRmap'"
   ]
  },
  {
   "cell_type": "code",
   "execution_count": null,
   "metadata": {
    "collapsed": false
   },
   "outputs": [],
   "source": [
    "# try to make all the colors the same\n",
    "from omnibus.formats.comp import load as load_comps\n",
    "from omnibus.raytrace.colors import Composition\n",
    "\n",
    "comps = load_comps(xml_path + comp_filename)\n",
    "comps = [Composition(**d) for d in comps['compositions'].tolist()]\n",
    "\n",
    "print(comps[0])\n"
   ]
  },
  {
   "cell_type": "code",
   "execution_count": null,
   "metadata": {
    "collapsed": false
   },
   "outputs": [],
   "source": [
    "#tolist = comps.compositions.tolist()\n",
    "#print(tolist[0])"
   ]
  },
  {
   "cell_type": "code",
   "execution_count": null,
   "metadata": {
    "collapsed": false
   },
   "outputs": [],
   "source": [
    "colors = ColorMap.from_compositions(comps)"
   ]
  },
  {
   "cell_type": "code",
   "execution_count": null,
   "metadata": {
    "collapsed": false
   },
   "outputs": [],
   "source": [
    "z = 0.5\n",
    "x = 4*6.5\n",
    "y = 4*6.5\n",
    "\n",
    "# plot using a method where you can specify the lower left corner and the \n",
    "# upper right corner of the desired domain\n",
    "imager = Imager(model.geometry, lower = (0.0, 0.0, z), upper = (x, y, z), \\\n",
    "                basis = (1, 0, 0), max_pixels=1200)\n",
    "imager.set_colors(colors)\n",
    "imager.check_errors = True\n",
    "imager.plot(figsize=(5.0, 5.0));\n",
    "\n"
   ]
  },
  {
   "cell_type": "code",
   "execution_count": null,
   "metadata": {
    "collapsed": false
   },
   "outputs": [],
   "source": [
    "imager.scale(0.5)\n",
    "imager.plot()"
   ]
  },
  {
   "cell_type": "code",
   "execution_count": null,
   "metadata": {
    "collapsed": false
   },
   "outputs": [],
   "source": [
    "# plot a slice through the domain\n",
    "imager = Imager.from_extents(model.geometry, z=0.5)\n",
    "imager.trace = tracer\n",
    "imager.plot();"
   ]
  },
  {
   "cell_type": "code",
   "execution_count": null,
   "metadata": {
    "collapsed": true
   },
   "outputs": [],
   "source": []
  }
 ],
 "metadata": {
  "kernelspec": {
   "display_name": "Python 3",
   "language": "python",
   "name": "python3"
  },
  "language_info": {
   "codemirror_mode": {
    "name": "ipython",
    "version": 3
   },
   "file_extension": ".py",
   "mimetype": "text/x-python",
   "name": "python",
   "nbconvert_exporter": "python",
   "pygments_lexer": "ipython3",
   "version": "3.5.2"
  }
 },
 "nbformat": 4,
 "nbformat_minor": 1
}
