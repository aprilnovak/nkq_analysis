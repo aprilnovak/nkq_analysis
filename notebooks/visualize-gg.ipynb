{
 "cells": [
  {
   "cell_type": "markdown",
   "metadata": {},
   "source": [
    "## RTK + GG Visualization\n",
    "#### April Novak\n",
    "\n",
    "\n"
   ]
  },
  {
   "cell_type": "code",
   "execution_count": 1,
   "metadata": {
    "collapsed": false
   },
   "outputs": [],
   "source": [
    "import sys\n",
    "\n",
    "import h5py as h5\n",
    "import numpy as np\n",
    "import matplotlib.pyplot as plt\n",
    "import matplotlib.cm as cm\n",
    "\n",
    "# path to Exnihilo-specific python modules on your machine. This is a path\n",
    "# on a personal machine due to the mounting to orthanc.\n",
    "sys.path.insert(0, '/Users/aprilnovak/Installs/python')\n",
    "sys.path.append('/Users/aprilnovak/anaconda3/lib/python3.5/')\n",
    "\n",
    "import exnihilotools.matplotlib as extools\n",
    "\n",
    "extools.screen_style()\n",
    "%matplotlib inline"
   ]
  },
  {
   "cell_type": "code",
   "execution_count": 2,
   "metadata": {
    "collapsed": false
   },
   "outputs": [
    {
     "data": {
      "text/html": [
       "<p style=\"font-size: 75%; color: #ccc; font-style: italic;\">Loading Omnibus tools from Exnihilo version 6.2 (r29415: #d6c3cd42 on 2017JAN12)</p>"
      ],
      "text/plain": [
       "<IPython.core.display.HTML object>"
      ]
     },
     "metadata": {},
     "output_type": "display_data"
    }
   ],
   "source": [
    "# for plotting tallies\n",
    "from omnibus.data import plot\n",
    "from matplotlib.colors import Normalize, LogNorm"
   ]
  },
  {
   "cell_type": "code",
   "execution_count": 3,
   "metadata": {
    "collapsed": false
   },
   "outputs": [],
   "source": [
    "# for plotting geometry\n",
    "from geometria import RTK_Geometry\n",
    "from omnibus.raytrace.colors import ColorMap\n",
    "from omnibus.raytrace.imager import Imager\n",
    "from omnibus.raytrace.load import load_gg"
   ]
  },
  {
   "cell_type": "code",
   "execution_count": 4,
   "metadata": {
    "collapsed": false,
    "scrolled": true
   },
   "outputs": [
    {
     "ename": "RuntimeError",
     "evalue": "Invalid universe type 'rtkarray'",
     "output_type": "error",
     "traceback": [
      "\u001b[0;31m---------------------------------------------------------------------------\u001b[0m",
      "\u001b[0;31mKeyError\u001b[0m                                  Traceback (most recent call last)",
      "\u001b[0;32m/Users/aprilnovak/Installs/python/omnibus/raytrace/load.py\u001b[0m in \u001b[0;36m_cached\u001b[0;34m(inp, *args, **kwargs)\u001b[0m\n\u001b[1;32m     44\u001b[0m         \u001b[0;32mtry\u001b[0m\u001b[0;34m:\u001b[0m\u001b[0;34m\u001b[0m\u001b[0m\n\u001b[0;32m---> 45\u001b[0;31m             \u001b[0mmodel\u001b[0m \u001b[0;34m=\u001b[0m \u001b[0m_MODEL_CACHE\u001b[0m\u001b[0;34m[\u001b[0m\u001b[0minp\u001b[0m\u001b[0;34m]\u001b[0m\u001b[0;34m\u001b[0m\u001b[0m\n\u001b[0m\u001b[1;32m     46\u001b[0m         \u001b[0;32mexcept\u001b[0m \u001b[0mKeyError\u001b[0m\u001b[0;34m:\u001b[0m\u001b[0;34m\u001b[0m\u001b[0m\n",
      "\u001b[0;32m/Users/aprilnovak/anaconda3/lib/python3.5/weakref.py\u001b[0m in \u001b[0;36m__getitem__\u001b[0;34m(self, key)\u001b[0m\n\u001b[1;32m    130\u001b[0m     \u001b[0;32mdef\u001b[0m \u001b[0m__getitem__\u001b[0m\u001b[0;34m(\u001b[0m\u001b[0mself\u001b[0m\u001b[0;34m,\u001b[0m \u001b[0mkey\u001b[0m\u001b[0;34m)\u001b[0m\u001b[0;34m:\u001b[0m\u001b[0;34m\u001b[0m\u001b[0m\n\u001b[0;32m--> 131\u001b[0;31m         \u001b[0mo\u001b[0m \u001b[0;34m=\u001b[0m \u001b[0mself\u001b[0m\u001b[0;34m.\u001b[0m\u001b[0mdata\u001b[0m\u001b[0;34m[\u001b[0m\u001b[0mkey\u001b[0m\u001b[0;34m]\u001b[0m\u001b[0;34m(\u001b[0m\u001b[0;34m)\u001b[0m\u001b[0;34m\u001b[0m\u001b[0m\n\u001b[0m\u001b[1;32m    132\u001b[0m         \u001b[0;32mif\u001b[0m \u001b[0mo\u001b[0m \u001b[0;32mis\u001b[0m \u001b[0;32mNone\u001b[0m\u001b[0;34m:\u001b[0m\u001b[0;34m\u001b[0m\u001b[0m\n",
      "\u001b[0;31mKeyError\u001b[0m: '../vera-inputs/ex-core-roomy/ex-core.gg.xml'",
      "\nDuring handling of the above exception, another exception occurred:\n",
      "\u001b[0;31mRuntimeError\u001b[0m                              Traceback (most recent call last)",
      "\u001b[0;32m<ipython-input-4-fccbcbe60e1a>\u001b[0m in \u001b[0;36m<module>\u001b[0;34m()\u001b[0m\n\u001b[0;32m----> 1\u001b[0;31m \u001b[0mmodel\u001b[0m \u001b[0;34m=\u001b[0m \u001b[0mload_gg\u001b[0m\u001b[0;34m(\u001b[0m\u001b[0;34m'../vera-inputs/ex-core-roomy/ex-core.gg.xml'\u001b[0m\u001b[0;34m)\u001b[0m\u001b[0;34m\u001b[0m\u001b[0m\n\u001b[0m",
      "\u001b[0;32m/Users/aprilnovak/Installs/python/omnibus/raytrace/load.py\u001b[0m in \u001b[0;36m_cached\u001b[0;34m(inp, *args, **kwargs)\u001b[0m\n\u001b[1;32m     46\u001b[0m         \u001b[0;32mexcept\u001b[0m \u001b[0mKeyError\u001b[0m\u001b[0;34m:\u001b[0m\u001b[0;34m\u001b[0m\u001b[0m\n\u001b[1;32m     47\u001b[0m             \u001b[0mlog\u001b[0m\u001b[0;34m.\u001b[0m\u001b[0mdebug\u001b[0m\u001b[0;34m(\u001b[0m\u001b[0;34m\"Loading %s model at %s from cache\"\u001b[0m\u001b[0;34m,\u001b[0m \u001b[0mfuncname\u001b[0m\u001b[0;34m,\u001b[0m \u001b[0minp\u001b[0m\u001b[0;34m)\u001b[0m\u001b[0;34m\u001b[0m\u001b[0m\n\u001b[0;32m---> 48\u001b[0;31m             \u001b[0mmodel\u001b[0m \u001b[0;34m=\u001b[0m \u001b[0mfunc\u001b[0m\u001b[0;34m(\u001b[0m\u001b[0minp\u001b[0m\u001b[0;34m,\u001b[0m \u001b[0;34m*\u001b[0m\u001b[0margs\u001b[0m\u001b[0;34m,\u001b[0m \u001b[0;34m**\u001b[0m\u001b[0mkwargs\u001b[0m\u001b[0;34m)\u001b[0m\u001b[0;34m\u001b[0m\u001b[0m\n\u001b[0m\u001b[1;32m     49\u001b[0m             \u001b[0m_MODEL_CACHE\u001b[0m\u001b[0;34m[\u001b[0m\u001b[0minp\u001b[0m\u001b[0;34m]\u001b[0m \u001b[0;34m=\u001b[0m \u001b[0mmodel\u001b[0m\u001b[0;34m\u001b[0m\u001b[0m\n\u001b[1;32m     50\u001b[0m         \u001b[0;32melse\u001b[0m\u001b[0;34m:\u001b[0m\u001b[0;34m\u001b[0m\u001b[0m\n",
      "\u001b[0;32m/Users/aprilnovak/Installs/python/omnibus/raytrace/load.py\u001b[0m in \u001b[0;36mload_gg\u001b[0;34m(inp, compositions)\u001b[0m\n\u001b[1;32m     79\u001b[0m     \u001b[0;32mif\u001b[0m \u001b[0mcompositions\u001b[0m \u001b[0;32mis\u001b[0m \u001b[0;32mnot\u001b[0m \u001b[0;32mNone\u001b[0m\u001b[0;34m:\u001b[0m\u001b[0;34m\u001b[0m\u001b[0m\n\u001b[1;32m     80\u001b[0m         \u001b[0mcompnames\u001b[0m \u001b[0;34m=\u001b[0m \u001b[0;34m[\u001b[0m\u001b[0mc\u001b[0m\u001b[0;34m.\u001b[0m\u001b[0mname\u001b[0m \u001b[0;32mfor\u001b[0m \u001b[0mc\u001b[0m \u001b[0;32min\u001b[0m \u001b[0mcompositions\u001b[0m\u001b[0;34m]\u001b[0m\u001b[0;34m\u001b[0m\u001b[0m\n\u001b[0;32m---> 81\u001b[0;31m     \u001b[0mm\u001b[0m\u001b[0;34m.\u001b[0m\u001b[0mgeometry\u001b[0m \u001b[0;34m=\u001b[0m \u001b[0mGG_Geometry\u001b[0m\u001b[0;34m.\u001b[0m\u001b[0mfrom_xml_path\u001b[0m\u001b[0;34m(\u001b[0m\u001b[0mstr\u001b[0m\u001b[0;34m(\u001b[0m\u001b[0minp\u001b[0m\u001b[0;34m)\u001b[0m\u001b[0;34m,\u001b[0m \u001b[0mcompnames\u001b[0m\u001b[0;34m)\u001b[0m\u001b[0;34m\u001b[0m\u001b[0m\n\u001b[0m\u001b[1;32m     82\u001b[0m     \u001b[0mm\u001b[0m\u001b[0;34m.\u001b[0m\u001b[0mcompositions\u001b[0m \u001b[0;34m=\u001b[0m \u001b[0mcompositions\u001b[0m\u001b[0;34m\u001b[0m\u001b[0m\n\u001b[1;32m     83\u001b[0m     \u001b[0;32mreturn\u001b[0m \u001b[0mm\u001b[0m\u001b[0;34m\u001b[0m\u001b[0m\n",
      "\u001b[0;31mRuntimeError\u001b[0m: Invalid universe type 'rtkarray'"
     ]
    }
   ],
   "source": [
    "model = load_gg('../vera-inputs/ex-core-roomy/ex-core.gg.xml')"
   ]
  },
  {
   "cell_type": "code",
   "execution_count": null,
   "metadata": {
    "collapsed": false
   },
   "outputs": [],
   "source": [
    "# record description of the model\n",
    "description = model.geometry.describe()"
   ]
  },
  {
   "cell_type": "code",
   "execution_count": null,
   "metadata": {
    "collapsed": false
   },
   "outputs": [],
   "source": [
    "# Set parameters for the plots\n",
    "tracer = 'cell'\n",
    "color_map = 'CMRmap'"
   ]
  },
  {
   "cell_type": "code",
   "execution_count": null,
   "metadata": {
    "collapsed": false
   },
   "outputs": [],
   "source": [
    "z = 0.5\n",
    "x = 1.26*5\n",
    "y = 1.26*5\n",
    "\n",
    "# plot using a method where you can specify the lower left corner and the \n",
    "# upper right corner of the desired domain\n",
    "imager = Imager(model.geometry, lower = (0.0, 0.0, z), upper = (x, y, z), \\\n",
    "                basis = (1, 0, 0), max_pixels=600)\n",
    "imager.plot(figsize=(5.0, 5.0), cmap=cm.get_cmap(color_map));"
   ]
  },
  {
   "cell_type": "code",
   "execution_count": null,
   "metadata": {
    "collapsed": false
   },
   "outputs": [],
   "source": [
    "# plot a slice through the domain\n",
    "imager = Imager.from_extents(model.geometry, z=0.5)\n",
    "imager.trace = tracer\n",
    "imager.plot();"
   ]
  },
  {
   "cell_type": "markdown",
   "metadata": {
    "collapsed": true
   },
   "source": [
    "## Tally and Fission Source Visualization\n",
    "\n",
    "This section will demonstrate how to visualize the tallies that are defined in the Omnibus input. By default, all of the solution data remains on disk, so each time the raw data is sliced, an HDF5 read operation is performed. The .extract() method loads an entire field into memory, which can be advantageous if you're going to be performing repeated operations on that data."
   ]
  },
  {
   "cell_type": "markdown",
   "metadata": {},
   "source": [
    "### Some notes on tallies: \n",
    "Cell and mesh tallies produce volume-average quantities by default, if the volumes are available for the cells being tallied. The output units of these tallies is reactions/(cm^3 s). All tally output is given in the vera-input.out.h5 file. \n",
    "\n",
    "An energy filter (integration over energy) is applied automatically over all energies, unless neutron_bins and photon_bins (lists of energy intervals) are specified, in which case the tally output will be a function of that energy group structure specified. "
   ]
  },
  {
   "cell_type": "markdown",
   "metadata": {},
   "source": [
    "### Plot the fission source generated by VERA\n",
    "The fission source produced by VERA can be plotted manually using h5py."
   ]
  },
  {
   "cell_type": "code",
   "execution_count": null,
   "metadata": {
    "collapsed": false
   },
   "outputs": [],
   "source": [
    "with h5.File(\"2a/2a.src-extracted.shift.h5\") as f:\n",
    "    source = f['strength']\n",
    "    size = int(np.sqrt(source.shape[0]))\n",
    "    source_matrix = np.empty((size, size))\n",
    "    \n",
    "    for i in range(size):\n",
    "        for j in range(size):\n",
    "            source_matrix[i][j] = source[i + j]\n",
    "    \n",
    "    print(source_matrix)\n",
    "    plt.matshow(source_matrix)"
   ]
  },
  {
   "cell_type": "markdown",
   "metadata": {},
   "source": [
    "### Vacuum BCs in Omnibus\n",
    "The original VERA BCs are reflecting on all sides, but here the BCs are made vacuum in Omnibus. This plot of the fission reaction rate is generated with 100,000 particles."
   ]
  },
  {
   "cell_type": "code",
   "execution_count": null,
   "metadata": {
    "collapsed": false,
    "scrolled": true
   },
   "outputs": [],
   "source": [
    "with h5.File(\"2a/2a.out.h5\", 'r') as f:    \n",
    "    mesh_tal = f['tally']['mesh_tally']\n",
    "    mesh_total = mesh_tal['total']\n",
    "    points = len(mesh_total[0])\n",
    "    mesh_matrix = np.empty((points, points))\n",
    "    \n",
    "    for i in range(points):\n",
    "        for j in range(points):\n",
    "            # unknown if this is the correct orientation of the data\n",
    "            mesh_matrix[i][j] = mesh_total[0][-i][j][0][0]\n",
    "    \n",
    "    plt.matshow(mesh_matrix)"
   ]
  },
  {
   "cell_type": "markdown",
   "metadata": {},
   "source": [
    "# Visualization with Omnibus Tools\n",
    "The output file can also be visualized using the Omnibus tools. To do so, the version of python that is used by Omnibus had to be updated so that the load method of omnibus.formats.output would correctly read in the HDF5 output file.\n",
    "\n",
    "The load().extract() method loads in all the information at once, which is useful if we are going to be performing many operations on the data. Information can be extracted from the HDF5 output file in either a dictionary-style way (parent['value']) or in a member style (parent.value). \n",
    "\n",
    "To plot data, the .xs method is useful because it allows you take slices through the domain. The fields under the \"Axes\" heading below show the values that can be specified in a call to .xs. "
   ]
  },
  {
   "cell_type": "code",
   "execution_count": null,
   "metadata": {
    "collapsed": true
   },
   "outputs": [],
   "source": [
    "from omnibus.formats.output import load"
   ]
  },
  {
   "cell_type": "code",
   "execution_count": null,
   "metadata": {
    "collapsed": false
   },
   "outputs": [],
   "source": [
    "output = load(\"2a/2a.out.h5\").extract();"
   ]
  },
  {
   "cell_type": "code",
   "execution_count": null,
   "metadata": {
    "collapsed": false
   },
   "outputs": [],
   "source": [
    "tallies = output['tally']\n",
    "mesh_tally = tallies.mesh_tally.total\n",
    "mesh_tally"
   ]
  },
  {
   "cell_type": "code",
   "execution_count": null,
   "metadata": {
    "collapsed": false,
    "scrolled": true
   },
   "outputs": [],
   "source": [
    "plot(mesh_tally.xs(z=0.9, stat='mean', multiplier='fission'));"
   ]
  }
 ],
 "metadata": {
  "kernelspec": {
   "display_name": "Python 3",
   "language": "python",
   "name": "python3"
  },
  "language_info": {
   "codemirror_mode": {
    "name": "ipython",
    "version": 3
   },
   "file_extension": ".py",
   "mimetype": "text/x-python",
   "name": "python",
   "nbconvert_exporter": "python",
   "pygments_lexer": "ipython3",
   "version": "3.5.2"
  }
 },
 "nbformat": 4,
 "nbformat_minor": 1
}
