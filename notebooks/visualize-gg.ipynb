{
 "cells": [
  {
   "cell_type": "markdown",
   "metadata": {},
   "source": [
    "## RTK + GG Visualization\n",
    "#### April Novak\n",
    "\n",
    "This notebook illustrates how to visualize a combined RTK (in-core) and GG (ex-core) geometry. This notebook is held on `orthanc`, but is launched through the Mounts, so my personal machine has to have the `casl2omni` branch checked out so that my machine knows about those updates. To do this, from `~/projects/Exnihilo`, do `git fetch; git checkout -t origin/casl2omni`. Then, build in the build directory on my personal machine (`~/Builds/Exnihilo`) by doing `make install`. Then, because this notebook is being launched from a Mount, the file path in the `ex-core.gg.xml` file that is to be read in must be edited so that the correct path (_through the Mount_) is read.\n",
    "\n",
    "A baffle cannot be put around a square core in VERA - this is not allowed, since this is a very uncommon physical situation. \n",
    "\n",
    "Some of the cells below are commented out simply because they take a long time to run.\n"
   ]
  },
  {
   "cell_type": "code",
   "execution_count": 1,
   "metadata": {
    "collapsed": false
   },
   "outputs": [],
   "source": [
    "import sys\n",
    "\n",
    "import h5py as h5\n",
    "import numpy as np\n",
    "import matplotlib.pyplot as plt\n",
    "\n",
    "# path to Exnihilo-specific python modules on your machine. This is a path\n",
    "# on a personal machine due to the mounting to orthanc.\n",
    "sys.path.insert(0, '/Users/aprilnovak/Installs/python')\n",
    "\n",
    "import exnihilotools.matplotlib as extools\n",
    "\n",
    "extools.screen_style()\n",
    "%matplotlib inline"
   ]
  },
  {
   "cell_type": "code",
   "execution_count": 2,
   "metadata": {
    "collapsed": false
   },
   "outputs": [
    {
     "data": {
      "text/html": [
       "<p style=\"font-size: 75%; color: #ccc; font-style: italic;\">Loading Omnibus tools from Exnihilo version 6.2 (branch 'casl2omni' #f4db12f1 on 2017JAN17)</p>"
      ],
      "text/plain": [
       "<IPython.core.display.HTML object>"
      ]
     },
     "metadata": {},
     "output_type": "display_data"
    }
   ],
   "source": [
    "# for plotting tallies\n",
    "from omnibus.data import plot\n",
    "from matplotlib.colors import Normalize, LogNorm"
   ]
  },
  {
   "cell_type": "code",
   "execution_count": 3,
   "metadata": {
    "collapsed": false
   },
   "outputs": [
    {
     "data": {
      "text/plain": [
       "'/Users/aprilnovak/Installs/python/geometria.py'"
      ]
     },
     "execution_count": 3,
     "metadata": {},
     "output_type": "execute_result"
    }
   ],
   "source": [
    "# This shows where this notebook is importing geometria from\n",
    "import geometria\n",
    "geometria.__file__"
   ]
  },
  {
   "cell_type": "code",
   "execution_count": 4,
   "metadata": {
    "collapsed": false
   },
   "outputs": [],
   "source": [
    "# for plotting geometry\n",
    "from geometria import GG_Geometry\n",
    "from omnibus.raytrace.colors import ColorMap\n",
    "from omnibus.raytrace.imager import Imager\n",
    "from omnibus.raytrace.load import load_gg"
   ]
  },
  {
   "cell_type": "code",
   "execution_count": 5,
   "metadata": {
    "collapsed": false,
    "scrolled": true
   },
   "outputs": [],
   "source": [
    "xml_path = '/Users/aprilnovak/Mounts/orthanc/projects/nkq_analysis/vera-inputs/'\n",
    "# Because this is launched through the Mount, you have to manually edit the file path within \n",
    "# the XML file so that it is reading from the Mount. So, use XML files with extension\n",
    "# notebook.gg.xml\n",
    "filename = '4x4-excore/4x4-excore-notebook.gg.xml'\n",
    "comp_filename = '4x4-excore/4x4-excore.shift_compositions-custom.h5'\n",
    "\n",
    "model = load_gg(xml_path + filename)"
   ]
  },
  {
   "cell_type": "code",
   "execution_count": 6,
   "metadata": {
    "collapsed": false
   },
   "outputs": [
    {
     "name": "stderr",
     "output_type": "stream",
     "text": [
      "Loading HDF5 file...\n",
      "Loading Compositions from HDF5 data at /Users/aprilnovak/Mounts/orthanc/projects/nkq_analysis/vera-inputs/4x4-excore/4x4-excore.shift_compositions-custom.h5\n",
      "INFO: Loaded 'UNKNOWN': Compositions calculated on 2017JAN18 12:41\n",
      "INFO: Data generated with Exnihilo version b'6.2 (r29396: #b538b683 on 2017JAN05) [DBC=7]', Scale version b'6.3 (r22322: #12f94e8b on 2017JAN10) [DBC=7]'\n",
      "            ...finished loading HDF5 file in 3.7 seconds\n",
      "/Users/aprilnovak/Installs/python/omnibus/data/dataset.py:146: RuntimeWarning: Extracting compound dataset manually because this version of h5py does not properly support aligned data types\n",
      "  \"data types\", RuntimeWarning)\n"
     ]
    }
   ],
   "source": [
    "# try to make all the colors the same\n",
    "from omnibus.formats.comp import load as load_comps\n",
    "from omnibus.raytrace.colors import Composition\n",
    "\n",
    "comps = load_comps(xml_path + comp_filename)\n",
    "comps = [Composition(**d) for d in comps['compositions'].tolist()]\n"
   ]
  },
  {
   "cell_type": "code",
   "execution_count": 7,
   "metadata": {
    "collapsed": false
   },
   "outputs": [],
   "source": [
    "colors = ColorMap.from_compositions(comps)"
   ]
  },
  {
   "cell_type": "code",
   "execution_count": 8,
   "metadata": {
    "collapsed": false
   },
   "outputs": [],
   "source": [
    "z = 0.5\n",
    "x = 4*6.5\n",
    "y = 4*6.5\n",
    "\n",
    "# plot using a method where you can specify the lower left corner and the \n",
    "# upper right corner of the desired domain\n",
    "#imager = Imager(model.geometry, lower = (0.0, 0.0, z), upper = (x, y, z), \\\n",
    " #               basis = (1, 0, 0), max_pixels=1200)\n",
    "#imager.set_colors(colors)\n",
    "#imager.check_errors = True\n",
    "#imager.plot(figsize=(5.0, 5.0));\n"
   ]
  },
  {
   "cell_type": "markdown",
   "metadata": {
    "collapsed": true
   },
   "source": [
    "## Model with only a baffle, but no vessel\n",
    "\n",
    "The GG to XML writer only converts the fuel - no baffle is retained. For this example, a custom material is defined as a mixture of water and fuel (\"waterfuel\") and is used in the core barrel. "
   ]
  },
  {
   "cell_type": "code",
   "execution_count": 9,
   "metadata": {
    "collapsed": false
   },
   "outputs": [
    {
     "name": "stderr",
     "output_type": "stream",
     "text": [
      "Loading HDF5 file...\n",
      "Loading Compositions from HDF5 data at /Users/aprilnovak/Mounts/orthanc/projects/nkq_analysis/vera-inputs/baffle/baffle.shift_compositions-custom.h5\n",
      "INFO: Loaded 'UNKNOWN': Compositions calculated on 2017JAN19 05:52\n",
      "INFO: Data generated with Exnihilo version b'6.2 (r29396: #b538b683 on 2017JAN05) [DBC=7]', Scale version b'6.3 (r22322: #12f94e8b on 2017JAN10) [DBC=7]'\n",
      "            ...finished loading HDF5 file in 2.6 seconds\n",
      "/Users/aprilnovak/Installs/python/omnibus/data/dataset.py:146: RuntimeWarning: Extracting compound dataset manually because this version of h5py does not properly support aligned data types\n",
      "  \"data types\", RuntimeWarning)\n"
     ]
    }
   ],
   "source": [
    "model = load_gg(xml_path + 'baffle/baffle-notebook.gg.xml')\n",
    "comps = load_comps(xml_path + 'baffle/baffle.shift_compositions-custom.h5')\n",
    "comps = [Composition(**d) for d in comps['compositions'].tolist()]\n",
    "colors = ColorMap.from_compositions(comps)"
   ]
  },
  {
   "cell_type": "code",
   "execution_count": 10,
   "metadata": {
    "collapsed": false
   },
   "outputs": [
    {
     "data": {
      "image/png": "[encoded data removed]",
      "text/plain": [
       "<matplotlib.figure.Figure at 0x1125c5d68>"
      ]
     },
     "metadata": {},
     "output_type": "display_data"
    }
   ],
   "source": [
    "z = 0.5\n",
    "x = 6.3\n",
    "y = 6.3\n",
    "\n",
    "imager = Imager(model.geometry, lower = (0.0, 0.0, z), upper = (x, y, z), \\\n",
    "                basis = (1, 0, 0), max_pixels=1200)\n",
    "imager.set_colors(colors)\n",
    "imager.check_errors = True\n",
    "imager.plot(figsize=(5.0, 5.0));"
   ]
  },
  {
   "cell_type": "code",
   "execution_count": 11,
   "metadata": {
    "collapsed": false
   },
   "outputs": [
    {
     "data": {
      "text/plain": [
       "{'ax': <matplotlib.axes._subplots.AxesSubplot at 0x113a15dd8>,\n",
       " 'ax2': <matplotlib.axes._axes.Axes at 0x11bf3bf98>,\n",
       " 'cbar': <matplotlib.colorbar.Colorbar at 0x11bf35e10>,\n",
       " 'fig': <matplotlib.figure.Figure at 0x113abbc50>,\n",
       " 'plot': <matplotlib.image.AxesImage at 0x10a4a2320>}"
      ]
     },
     "execution_count": 11,
     "metadata": {},
     "output_type": "execute_result"
    },
    {
     "data": {
      "image/png": "[encoded data removed]",
      "text/plain": [
       "<matplotlib.figure.Figure at 0x113abbc50>"
      ]
     },
     "metadata": {},
     "output_type": "display_data"
    }
   ],
   "source": [
    "imager.scale(0.25)\n",
    "imager.plot()"
   ]
  },
  {
   "cell_type": "code",
   "execution_count": 12,
   "metadata": {
    "collapsed": false
   },
   "outputs": [],
   "source": [
    "#with h5.File(\"/Users/aprilnovak/Mounts/orthanc/projects/nkq_analysis/vera-inputs/baffle/baffle.out.h5\", 'r') as f:    \n",
    "#    mesh_tal = f['tally']['mesh_tally']\n",
    "#    mesh_total = mesh_tal['total']\n",
    "#    points = len(mesh_total[0])\n",
    "#    mesh_matrix = np.empty((points, points))\n",
    "#    \n",
    "#    for i in range(points):\n",
    "#        for j in range(points):\n",
    "#            # correct orientation of the data\n",
    "#            mesh_matrix[i][j] = mesh_total[0][-i][j][0][0]\n",
    "#    \n",
    "#    plt.matshow(mesh_matrix)"
   ]
  },
  {
   "cell_type": "markdown",
   "metadata": {
    "collapsed": true
   },
   "source": [
    "## Testing if the HOLE universe will automatically fill outside the fuel will be moderator?"
   ]
  },
  {
   "cell_type": "code",
   "execution_count": 13,
   "metadata": {
    "collapsed": false
   },
   "outputs": [],
   "source": [
    "#model = load_gg(xml_path + '6x6/6x6-notebook.gg.xml')\n",
    "#comps = load_comps(xml_path + '6x6/6x6.shift_compositions-custom.h5')\n",
    "#comps = [Composition(**d) for d in comps['compositions'].tolist()]\n",
    "#colors = ColorMap.from_compositions(comps)"
   ]
  },
  {
   "cell_type": "code",
   "execution_count": 14,
   "metadata": {
    "collapsed": false
   },
   "outputs": [],
   "source": [
    "#z = 0.5\n",
    "#x = 50\n",
    "#y = 7*6.4\n",
    "\n",
    "#imager = Imager(model.geometry, lower = (0.0, 0.0, z), upper = (x, y, z), \\\n",
    "#                basis = (1, 0, 0), max_pixels=1200)\n",
    "#imager.set_colors(colors)\n",
    "#imager.check_errors = True\n",
    "#imager.plot(figsize=(5.0, 5.0));"
   ]
  },
  {
   "cell_type": "code",
   "execution_count": 15,
   "metadata": {
    "collapsed": false
   },
   "outputs": [],
   "source": [
    "#imager.scale(0.5)\n",
    "#imager.plot()"
   ]
  },
  {
   "cell_type": "markdown",
   "metadata": {
    "collapsed": true
   },
   "source": [
    "## 6x6-circular.inp\n",
    "This input file is a 6x6, circular core (i.e. has edges) that is input as the in-core region for an Omnibus model. Here, for some reason we must still replace rtk_fuel by core-array, so the python script find-replace.py is run to swap out the keyword."
   ]
  },
  {
   "cell_type": "code",
   "execution_count": 16,
   "metadata": {
    "collapsed": false
   },
   "outputs": [],
   "source": [
    "#model = load_gg(xml_path + '6x6/6x6-circular-notebook-replaced.gg.xml')\n",
    "#comps = load_comps(xml_path + '6x6/6x6-circular.shift_compositions-custom.h5')\n",
    "#comps = [Composition(**d) for d in comps['compositions'].tolist()]\n",
    "#colors = ColorMap.from_compositions(comps)"
   ]
  },
  {
   "cell_type": "code",
   "execution_count": 17,
   "metadata": {
    "collapsed": false
   },
   "outputs": [
    {
     "data": {
      "text/plain": [
       "'\\nz = 0.5\\nx = 50\\ny = 50\\n\\nimager = Imager(model.geometry, lower = (0.0, 0.0, z), upper = (x, y, z),                 basis = (1, 0, 0), max_pixels=1200)\\nimager.set_colors(colors)\\nimager.check_errors = True\\nimager.plot(figsize=(5.0, 5.0));\\nimager.scale(2.0);'"
      ]
     },
     "execution_count": 17,
     "metadata": {},
     "output_type": "execute_result"
    }
   ],
   "source": [
    "'''\n",
    "z = 0.5\n",
    "x = 50\n",
    "y = 50\n",
    "\n",
    "imager = Imager(model.geometry, lower = (0.0, 0.0, z), upper = (x, y, z), \\\n",
    "                basis = (1, 0, 0), max_pixels=1200)\n",
    "imager.set_colors(colors)\n",
    "imager.check_errors = True\n",
    "imager.plot(figsize=(5.0, 5.0));\n",
    "imager.scale(2.0);'''"
   ]
  },
  {
   "cell_type": "markdown",
   "metadata": {
    "collapsed": true
   },
   "source": [
    "## 6x6 circular\n",
    "This shows the geometry for the VERA project. The outer radius of the baffle is 407.67 cm, the inner radius is 169.86 cm. "
   ]
  },
  {
   "cell_type": "code",
   "execution_count": 18,
   "metadata": {
    "collapsed": false
   },
   "outputs": [
    {
     "name": "stderr",
     "output_type": "stream",
     "text": [
      "Loading HDF5 file...\n",
      "Loading Compositions from HDF5 data at /Users/aprilnovak/Mounts/orthanc/projects/nkq_analysis/vera-inputs/6x6-big-baffle/6x6-big-baffle.shift_compositions-custom.h5\n",
      "INFO: Loaded 'UNKNOWN': Compositions calculated on 2017MAR02 17:37\n",
      "INFO: Data generated with Exnihilo version b'6.2 (r29627: #d1472c46 on 2017FEB03) [DBC=7]', Scale version b'6.3 (r22569: #1d1c0034 on 2017FEB03) [DBC=7]'\n",
      "            ...finished loading HDF5 file in 2.9 seconds\n",
      "/Users/aprilnovak/Installs/python/omnibus/data/dataset.py:146: RuntimeWarning: Extracting compound dataset manually because this version of h5py does not properly support aligned data types\n",
      "  \"data types\", RuntimeWarning)\n"
     ]
    }
   ],
   "source": [
    "model = load_gg(xml_path + '6x6-big-baffle/6x6-big-baffle-notebook-replaced.gg.xml')\n",
    "comps = load_comps(xml_path + '6x6-big-baffle/6x6-big-baffle.shift_compositions-custom.h5')\n",
    "comps = [Composition(**d) for d in comps['compositions'].tolist()]\n",
    "colors = ColorMap.from_compositions(comps)"
   ]
  },
  {
   "cell_type": "code",
   "execution_count": 21,
   "metadata": {
    "collapsed": false
   },
   "outputs": [
    {
     "name": "stderr",
     "output_type": "stream",
     "text": [
      "WARNING: Geometry errors were encountered\n",
      "WARNING: Too many mats (2258) are in the current view to display a color bar\n"
     ]
    },
    {
     "data": {
      "image/png": "[encoded data removed]",
      "text/plain": [
       "<matplotlib.figure.Figure at 0x11ed09240>"
      ]
     },
     "metadata": {},
     "output_type": "display_data"
    }
   ],
   "source": [
    "z = 0.5\n",
    "x = 60\n",
    "y = 60\n",
    "\n",
    "imager = Imager(model.geometry, lower = (0, 0, z), upper = (x, y, z), \\\n",
    "                basis = (1, 0, 0), max_pixels=1200)\n",
    "imager.set_colors(colors)\n",
    "imager.check_errors = True\n",
    "imager.plot(figsize=(5.0, 5.0));\n",
    "imager.scale(2.0);"
   ]
  },
  {
   "cell_type": "code",
   "execution_count": null,
   "metadata": {
    "collapsed": true
   },
   "outputs": [],
   "source": []
  }
 ],
 "metadata": {
  "kernelspec": {
   "display_name": "Python 3",
   "language": "python",
   "name": "python3"
  },
  "language_info": {
   "codemirror_mode": {
    "name": "ipython",
    "version": 3
   },
   "file_extension": ".py",
   "mimetype": "text/x-python",
   "name": "python",
   "nbconvert_exporter": "python",
   "pygments_lexer": "ipython3",
   "version": "3.5.2"
  }
 },
 "nbformat": 4,
 "nbformat_minor": 1
}
